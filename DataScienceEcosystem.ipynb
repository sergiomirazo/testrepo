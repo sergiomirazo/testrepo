{
 "cells": [
  {
   "cell_type": "markdown",
   "metadata": {},
   "source": [
    "<h1 style='color: cyan; text-shadow: 1px 1px 2px black, 0 2px 25px cyan, 0 0 5px gray;'>Data Science Tools and Ecosystem</h1>\n",
    "<hr>"
   ]
  },
  {
   "cell_type": "markdown",
   "metadata": {},
   "source": [
    "<p>In this notebook, Data Science Tools and Ecosystem are summarized.</p>"
   ]
  },
  {
   "cell_type": "markdown",
   "metadata": {},
   "source": [
    "<b style='color: cyan;'>Objectives: </b>\n",
    "<ul>\n",
    "  <li>Overview of Data Science</li>\n",
    "  <li>List popular languages for Data Science</li>\n",
    "  <li>List of some popular python libraries for Data Science</li>\n",
    "  <li>List of some popular tools for Data Science</li>\n",
    "  <li>Use of a python kernel for code execution in jupyter cells</li>\n",
    "</ul>"
   ]
  },
  {
   "cell_type": "markdown",
   "metadata": {},
   "source": [
    "<p>Some of the popular languages that Data Scientists use are:</p>\n",
    "<ol>\n",
    "  <li>Python</li>\n",
    "  <li>Java</li>\n",
    "  <li>C++</li>\n",
    "  <li>R</li>\n",
    "  <li>Julia</li>\n",
    "</ol>"
   ]
  },
  {
   "cell_type": "markdown",
   "metadata": {},
   "source": [
    "<p>Some of the commonly used libraries used by Data Scientists include:</p>\n",
    "<ol>\n",
    "  <li>Pandas</li>\n",
    "  <li>Numpy</li>\n",
    "  <li>Scipy</li>\n",
    "  <li>Matplotlib</li>\n",
    "  <li>Tensorflow</li>\n",
    "</ol>"
   ]
  },
  {
   "cell_type": "markdown",
   "metadata": {},
   "source": [
    "<table style=\"width:40%; text-align:center\">\n",
    "  <tr>\n",
    "    <th > <h3 style='color: cyan; text-shadow: 1px 1px 2px black, 0 2px 25px cyan, 0 0 5px gray;'> Data Science Tools </h3> </th>\n",
    "  </tr>\n",
    "  <tr>\n",
    "    <td >Jupyter Notebook</td>\n",
    "  </tr>\n",
    "  <tr>\n",
    "    <td >RStudio</td>\n",
    "  </tr>\n",
    "  <tr>\n",
    "    <td >PyCharm</td>\n",
    "  </tr>\n",
    "</table>\n"
   ]
  },
  {
   "cell_type": "markdown",
   "metadata": {},
   "source": [
    "<h3 style='color: cyan; text-shadow: 1px 1px 2px black, 0 2px 25px cyan, 0 0 5px gray;'>Below are a few examples of evaluating arithmetic expressions in Python </h3>"
   ]
  },
  {
   "cell_type": "code",
   "execution_count": 1,
   "metadata": {},
   "outputs": [
    {
     "data": {
      "text/plain": [
       "17"
      ]
     },
     "execution_count": 1,
     "metadata": {},
     "output_type": "execute_result"
    }
   ],
   "source": [
    "#This a simple arithmetic expression to mutiply then add integers\n",
    "(3*4)+5"
   ]
  },
  {
   "cell_type": "code",
   "execution_count": 4,
   "metadata": {},
   "outputs": [
    {
     "data": {
      "text/plain": [
       "3.33"
      ]
     },
     "execution_count": 4,
     "metadata": {},
     "output_type": "execute_result"
    }
   ],
   "source": [
    "# This will convert 200 minutes to hours by diving by 60\n",
    "time = 200\n",
    "round(time/60, 2)"
   ]
  },
  {
   "cell_type": "markdown",
   "metadata": {},
   "source": [
    "<h2 style='color: cyan; text-shadow: 1px 1px 2px black, 0 2px 25px cyan, 0 0 5px gray;'> Author </h2>\n",
    "<hr>\n",
    "<a href='https://github.com/sergiomirazo' >Sergio Mirazo</a>"
   ]
  }
 ],
 "metadata": {
  "kernelspec": {
   "display_name": "Python 3",
   "language": "python",
   "name": "python3"
  },
  "language_info": {
   "codemirror_mode": {
    "name": "ipython",
    "version": 3
   },
   "file_extension": ".py",
   "mimetype": "text/x-python",
   "name": "python",
   "nbconvert_exporter": "python",
   "pygments_lexer": "ipython3",
   "version": "3.10.7"
  },
  "orig_nbformat": 4
 },
 "nbformat": 4,
 "nbformat_minor": 2
}
